{
  "nbformat": 4,
  "nbformat_minor": 0,
  "metadata": {
    "colab": {
      "provenance": [],
      "authorship_tag": "ABX9TyMf+QrNZutu8I9TyVjI9LH7",
      "include_colab_link": true
    },
    "kernelspec": {
      "name": "python3",
      "display_name": "Python 3"
    },
    "language_info": {
      "name": "python"
    }
  },
  "cells": [
    {
      "cell_type": "markdown",
      "metadata": {
        "id": "view-in-github",
        "colab_type": "text"
      },
      "source": [
        "<a href=\"https://colab.research.google.com/github/MasoomaFaisal/30-Days-Of-Python/blob/master/ListComprehension.ipynb\" target=\"_parent\"><img src=\"https://colab.research.google.com/assets/colab-badge.svg\" alt=\"Open In Colab\"/></a>"
      ]
    },
    {
      "cell_type": "code",
      "execution_count": 7,
      "metadata": {
        "colab": {
          "base_uri": "https://localhost:8080/"
        },
        "id": "Z8m1NS7vxkYj",
        "outputId": "10361731-08ef-4a1e-e6a4-e2d09ecc6bb1"
      },
      "outputs": [
        {
          "output_type": "stream",
          "name": "stdout",
          "text": [
            "[0, 2, 4, 6, 8, 10, 12, 14, 16, 18, 20]\n",
            "[0, 2, 4, 6, 8, 10, 12, 14, 16, 18, 20, 22, 24, 26, 28, 30, 32, 34, 36, 38, 40, 42, 44, 46, 48, 50]\n",
            "[1, 3, 5, 7, 9, 11, 13, 15, 17, 19]\n",
            "[1, 3, 5, 7, 9, 11, 13, 15, 17, 19, 21, 23, 25, 27, 29, 31, 33, 35, 37, 39, 41, 43, 45, 47, 49]\n",
            "[0, 2, 4, 6, 8, 10, 12, 14, 16, 18, 20, 22, 24, 26, 28, 30, 32, 34, 36, 38, 40, 42, 44, 46, 48, 50, 1, 3, 5, 7, 9, 11, 13, 15, 17, 19, 21, 23, 25, 27, 29, 31, 33, 35, 37, 39, 41, 43, 45, 47, 49]\n",
            "[0, 1, 4, 9, 16, 25, 36, 49, 64, 81]\n",
            "[('Yellow', 'S'), ('Yellow', 'M'), ('Yellow', 'L'), ('Red', 'S'), ('Red', 'M'), ('Red', 'L')]\n",
            "Yellow S\n",
            "Yellow M\n",
            "Yellow L\n",
            "Red S\n",
            "Red M\n",
            "Red L\n",
            "[('S', 'Yellow'), ('S', 'Red'), ('M', 'Yellow'), ('M', 'Red'), ('L', 'Yellow'), ('L', 'Red')]\n"
          ]
        }
      ],
      "source": [
        "#List of Even numbers\n",
        "even_numbers = [i for i in range(21) if i % 2 == 0]  # to generate even numbers list in range 0 to 21\n",
        "print(even_numbers)\n",
        "#To generate even numbers another way\n",
        "even_numbers = [i for i in range(0,51,2)]\n",
        "print(even_numbers)\n",
        "#List of Odd numbers\n",
        "odd_numbers= [i for i in range(21) if i % 2!= 0]\n",
        "# To generate odd numbers list method 2\n",
        "print(odd_numbers)\n",
        "odd_num = [i for i in range(1,51,2)]\n",
        "print(odd_num)\n",
        "print(even_numbers+odd_num)\n",
        "# Taking Square\n",
        "square = [i*i for i in range(10)]\n",
        "print(square)\n",
        "squares = [i * i for i in range(10)]\n",
        "squares\n",
        "# Cartesian Product\n",
        "colors = ['Yellow', 'Red']\n",
        "sizes = ['S','M','L']\n",
        "tshirts=[(color,size) for color in colors for size in sizes]\n",
        "print (tshirts)\n",
        "#another way\n",
        "for color in colors:\n",
        "    for size in sizes:\n",
        "      print(color,size)\n",
        "# items arranged by size then color\n",
        "tshirts = [(size, color) for size in sizes\n",
        "                              for color in colors]\n",
        "print (tshirts)\n",
        "\n"
      ]
    }
  ]
}