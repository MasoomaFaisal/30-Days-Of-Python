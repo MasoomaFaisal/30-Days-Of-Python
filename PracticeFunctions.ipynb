{
  "nbformat": 4,
  "nbformat_minor": 0,
  "metadata": {
    "colab": {
      "provenance": [],
      "authorship_tag": "ABX9TyPYKWlTFHIeDSuRibdJTM5p",
      "include_colab_link": true
    },
    "kernelspec": {
      "name": "python3",
      "display_name": "Python 3"
    },
    "language_info": {
      "name": "python"
    }
  },
  "cells": [
    {
      "cell_type": "markdown",
      "metadata": {
        "id": "view-in-github",
        "colab_type": "text"
      },
      "source": [
        "<a href=\"https://colab.research.google.com/github/MasoomaFaisal/30-Days-Of-Python/blob/master/PracticeFunctions.ipynb\" target=\"_parent\"><img src=\"https://colab.research.google.com/assets/colab-badge.svg\" alt=\"Open In Colab\"/></a>"
      ]
    },
    {
      "cell_type": "code",
      "execution_count": 23,
      "metadata": {
        "colab": {
          "base_uri": "https://localhost:8080/"
        },
        "id": "g9-zeBPaBqnm",
        "outputId": "ccc9da73-a2c2-44be-97ef-63cc245f3c1b"
      },
      "outputs": [
        {
          "output_type": "stream",
          "name": "stdout",
          "text": [
            "Sum= 11\n",
            "11\n",
            "2\n",
            "Enter your year of birth:1987\n",
            "Your age: 36\n",
            "Area of the circle: 114.12\n"
          ]
        }
      ],
      "source": [
        "def add_two_numbers(num1 , num2):\n",
        "    sum = num1 + num2\n",
        "    print('Sum=', sum)\n",
        "add_two_numbers(5 , 6)\n",
        "\n",
        "def addition():\n",
        "  num_one = 7\n",
        "  num_two = 4\n",
        "  total = num_one + num_two\n",
        "  print (total)\n",
        "addition()\n",
        "def difference():\n",
        "  value1= 8\n",
        "  value2= 6\n",
        "  dif= value1 - value2\n",
        "  return dif\n",
        "print(difference())\n",
        "def calculate_age(birth_year, cur_year=2023):\n",
        "    age = cur_year - int(birth_year)\n",
        "    return age\n",
        "print('Your age:', calculate_age(birth_year= input('Enter your year of birth:')))\n",
        "def circle_area (radius, pi=3.17):\n",
        "    area= pi * radius**2\n",
        "    return area\n",
        "print('Area of the circle:', circle_area(6))\n",
        "\n"
      ]
    }
  ]
}