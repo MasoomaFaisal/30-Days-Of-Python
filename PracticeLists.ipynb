{
  "nbformat": 4,
  "nbformat_minor": 0,
  "metadata": {
    "colab": {
      "provenance": [],
      "authorship_tag": "ABX9TyM4hv3eqp5TsXsQJR44aHD0",
      "include_colab_link": true
    },
    "kernelspec": {
      "name": "python3",
      "display_name": "Python 3"
    },
    "language_info": {
      "name": "python"
    }
  },
  "cells": [
    {
      "cell_type": "markdown",
      "metadata": {
        "id": "view-in-github",
        "colab_type": "text"
      },
      "source": [
        "<a href=\"https://colab.research.google.com/github/MasoomaFaisal/30-Days-Of-Python/blob/master/PracticeLists.ipynb\" target=\"_parent\"><img src=\"https://colab.research.google.com/assets/colab-badge.svg\" alt=\"Open In Colab\"/></a>"
      ]
    },
    {
      "cell_type": "code",
      "execution_count": null,
      "metadata": {
        "colab": {
          "base_uri": "https://localhost:8080/"
        },
        "id": "ljTpgPJRsUWs",
        "outputId": "27bc6965-cdc3-406f-f097-ccb44b416715"
      },
      "outputs": [
        {
          "output_type": "stream",
          "name": "stdout",
          "text": [
            "Number of Students in Girls Section: 7 Girls\n",
            "Number of Students in Boys Section: 7 Boys\n",
            "First Student Girls Section: Sana\n",
            "First Student Boys Section: Allee\n",
            "Last Student Girls Section: Amina\n",
            "Last Student Boys Section: Mohsin\n",
            "Top Three Students Girls Section: ['Sana', 'Ayesha', 'Huma']\n",
            "Top Three Students Boys Section ['Allee', 'Rayyan', 'Shayaan']\n",
            "False\n",
            "['Sana', 'Ayesha', 'Huma', 'Sadia', 'Aleeza', 'Maria', 'Amina', 'Minsa']\n",
            "['Sana', 'Ayesha', 'Huma', 'Sadia', 'Aleeza', 'Rida', 'Maria', 'Amina', 'Minsa']\n",
            "['Allee', 'Rayyan', 'Shayaan', 'Hamza', 'Atif', 'Mahad', 'Hassan', 'Mohsin']\n",
            "['Sana', 'Ayesha', 'Sadia', 'Aleeza', 'Rida', 'Maria', 'Amina', 'Minsa']\n",
            "['Allee', 'Rayyan', 'Shayaan', 'Atif', 'Mahad', 'Hassan', 'Mohsin']\n",
            "['Rayyan', 'Shayaan', 'Atif', 'Mahad', 'Hassan', 'Mohsin']\n",
            "['Sana', 'Ayesha', 'Sadia', 'Aleeza', 'Rida', 'Maria', 'Amina', 'Minsa', 'Rayyan', 'Shayaan', 'Atif', 'Mahad', 'Hassan', 'Mohsin']\n"
          ]
        }
      ],
      "source": [
        "students_g=['Sana','Ayesha','Huma','Sadia','Aleeza','Maria','Amina']\n",
        "\n",
        "print('Number of Students in Girls Section:', len(students_g), 'Girls')\n",
        "students_b=['Allee', 'Rayyan', 'Shayaan', 'Hamza','Mahad', 'Hassan','Mohsin']\n",
        "print ('Number of Students in Boys Section:', len(students_b), 'Boys')\n",
        "print('First Student Girls Section:', students_g[0])\n",
        "print ('First Student Boys Section:', students_b[0])\n",
        "print ('Last Student Girls Section:', students_g[-1])\n",
        "print ('Last Student Boys Section:',students_b[-1])\n",
        "g_toppers=students_g[0:3]\n",
        "print('Top Three Students Girls Section:', g_toppers)\n",
        "b_toppers= students_b[0:3]\n",
        "print('Top Three Students Boys Section', b_toppers)\n",
        "does_exist= 'Minsa' in students_g\n",
        "print(does_exist)\n",
        "students_g.append('Minsa')\n",
        "print(students_g)\n",
        "students_g.insert(5,'Rida')\n",
        "students_b.insert(4,'Atif')\n",
        "print(students_g)\n",
        "print(students_b)\n",
        "students_g.remove('Huma')\n",
        "print(students_g)\n",
        "students_b.pop(3)\n",
        "print(students_b)\n",
        "del students_b[0]\n",
        "print(students_b)\n",
        "all_students= students_g + students_b\n",
        "print(all_students)\n",
        "\n",
        "\n",
        "\n",
        "\n"
      ]
    }
  ]
}