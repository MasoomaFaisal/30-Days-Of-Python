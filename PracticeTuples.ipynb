{
  "nbformat": 4,
  "nbformat_minor": 0,
  "metadata": {
    "colab": {
      "provenance": [],
      "authorship_tag": "ABX9TyMn/WbtB1p7T8Jv2S0yWAcA",
      "include_colab_link": true
    },
    "kernelspec": {
      "name": "python3",
      "display_name": "Python 3"
    },
    "language_info": {
      "name": "python"
    }
  },
  "cells": [
    {
      "cell_type": "markdown",
      "metadata": {
        "id": "view-in-github",
        "colab_type": "text"
      },
      "source": [
        "<a href=\"https://colab.research.google.com/github/MasoomaFaisal/30-Days-Of-Python/blob/master/PracticeTuples.ipynb\" target=\"_parent\"><img src=\"https://colab.research.google.com/assets/colab-badge.svg\" alt=\"Open In Colab\"/></a>"
      ]
    },
    {
      "cell_type": "code",
      "execution_count": null,
      "metadata": {
        "colab": {
          "base_uri": "https://localhost:8080/"
        },
        "id": "jAtGcTLiXEcz",
        "outputId": "c87bba8e-2031-4fbe-9f3d-9579ca96dda3"
      },
      "outputs": [
        {
          "output_type": "stream",
          "name": "stdout",
          "text": [
            "Sisters: ('Tehmina', 'Masooma')\n",
            "Brothers: ('Idrees', 'Raiees')\n",
            "Siblings: ('Tehmina', 'Masooma', 'Idrees', 'Raiees')\n",
            "Number of siblings: 4\n",
            "All Family Members: ('Amjad', 'Bushra', 'Tehmina', 'Masooma', 'Idrees', 'Raiees')\n",
            "Father's Name: Amjad\n",
            "Mother's Name: Bushra\n",
            "False\n"
          ]
        }
      ],
      "source": [
        "sisters = ('Tehmina','Masooma')\n",
        "brothers = ('Idrees', 'Raiees')\n",
        "print ('Sisters:', sisters)\n",
        "print ('Brothers:', brothers)\n",
        "siblings = sisters + brothers\n",
        "print ('Siblings:', siblings)\n",
        "print ('Number of siblings:', len(siblings))\n",
        "family_members= ('Amjad','Bushra') + siblings\n",
        "print ('All Family Members:', family_members)\n",
        "print ('Father\\'s Name:', family_members[0])\n",
        "print ('Mother\\'s Name:', family_members[1])\n",
        "print ('Ali' in siblings)\n"
      ]
    }
  ]
}