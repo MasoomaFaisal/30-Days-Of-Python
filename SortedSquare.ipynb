{
  "nbformat": 4,
  "nbformat_minor": 0,
  "metadata": {
    "colab": {
      "provenance": [],
      "authorship_tag": "ABX9TyP4g5N3YhA1lVFWWmUKj8zV",
      "include_colab_link": true
    },
    "kernelspec": {
      "name": "python3",
      "display_name": "Python 3"
    },
    "language_info": {
      "name": "python"
    }
  },
  "cells": [
    {
      "cell_type": "markdown",
      "metadata": {
        "id": "view-in-github",
        "colab_type": "text"
      },
      "source": [
        "<a href=\"https://colab.research.google.com/github/MasoomaFaisal/30-Days-Of-Python/blob/master/SortedSquare.ipynb\" target=\"_parent\"><img src=\"https://colab.research.google.com/assets/colab-badge.svg\" alt=\"Open In Colab\"/></a>"
      ]
    },
    {
      "cell_type": "code",
      "execution_count": 10,
      "metadata": {
        "colab": {
          "base_uri": "https://localhost:8080/"
        },
        "id": "g6nPDTEBj34J",
        "outputId": "4f98a2cf-de3c-4ad1-abb5-64223f374a10"
      },
      "outputs": [
        {
          "output_type": "stream",
          "name": "stdout",
          "text": [
            "Sorted Square Array: [4, 4, 9, 16, 16, 25, 49, 81, 121]\n",
            "Sorted Square Array: [4, 16, 9, 49, 25, 9, 64, 25, 81]\n"
          ]
        }
      ],
      "source": [
        "array = [2,3,-4,5,7,4,-2,9,11]\n",
        "# Solution 1 sorted square array\n",
        "def sortedsquare (array):\n",
        "  sortedsquares = [0 for _ in array]\n",
        "  for  idx in range (len(array)):\n",
        "      value = array[idx]\n",
        "      sortedsquares[idx]= value * value\n",
        "  sortedsquares.sort()\n",
        "  return sortedsquares\n",
        "print ('Sorted Square Array:', sortedsquare(array))\n",
        "# Solution 2\n",
        "array_2= [2,4,3,7,-5,-3, 8,5,9]\n",
        "def sortedsquarearray (array_2):\n",
        "  sortedsquares=[0 for _ in array_2]\n",
        "  smallervalueidx = 0\n",
        "  largervalueidx = len(array_2) - 1\n",
        "  for idx in reversed(range(len(array_2))):\n",
        "    smallervalue = array_2[smallervalueidx]\n",
        "    largervalue = array_2[largervalueidx]\n",
        "    if abs(smallervalue)> abs(largervalue):\n",
        "      sortedsquares[idx]= smallervalue * smallervalue\n",
        "      smallervalueidx += 1\n",
        "    else:\n",
        "      sortedsquares[idx]= largervalue * largervalue\n",
        "      largervalueidx -= 1\n",
        "  return sortedsquares\n",
        "print ('Sorted Square Array:', sortedsquarearray(array_2))\n"
      ]
    }
  ]
}