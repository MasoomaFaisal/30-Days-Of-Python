{
  "nbformat": 4,
  "nbformat_minor": 0,
  "metadata": {
    "colab": {
      "provenance": [],
      "authorship_tag": "ABX9TyO/Zfzcc/E5fnTZXcajiGbV",
      "include_colab_link": true
    },
    "kernelspec": {
      "name": "python3",
      "display_name": "Python 3"
    },
    "language_info": {
      "name": "python"
    }
  },
  "cells": [
    {
      "cell_type": "markdown",
      "metadata": {
        "id": "view-in-github",
        "colab_type": "text"
      },
      "source": [
        "<a href=\"https://colab.research.google.com/github/MasoomaFaisal/30-Days-Of-Python/blob/master/RegularExp2.ipynb\" target=\"_parent\"><img src=\"https://colab.research.google.com/assets/colab-badge.svg\" alt=\"Open In Colab\"/></a>"
      ]
    },
    {
      "cell_type": "code",
      "execution_count": 41,
      "metadata": {
        "colab": {
          "base_uri": "https://localhost:8080/"
        },
        "id": "QmRLFMJUg7iK",
        "outputId": "b179cd4f-d1a7-4364-bd3e-aa2ee2408019"
      },
      "outputs": [
        {
          "output_type": "stream",
          "name": "stdout",
          "text": [
            "<re.Match object; span=(5, 6), match='\\\\'>\n",
            "<re.Match object; span=(5, 6), match='\\\\'>\n",
            "<re.Match object; span=(0, 2), match='sa'>\n",
            "<re.Match object; span=(0, 2), match='to'>\n",
            "<re.Match object; span=(0, 6), match='butter'>\n",
            "None\n",
            "<re.Match object; span=(10, 16), match='butter'>\n",
            "<re.Match object; span=(8, 14), match='butter'>\n",
            "None\n",
            "None\n",
            "<re.Match object; span=(0, 5), match='cream'>\n",
            "<re.Match object; span=(0, 5), match='cream'>\n",
            "None\n",
            "<re.Match object; span=(6, 12), match='cheese'>\n",
            "<re.Match object; span=(6, 12), match='cheese'>\n",
            "<re.Match object; span=(0, 6), match='cheese'>\n",
            "<re.Match object; span=(6, 12), match='barley'>\n",
            "<re.Match object; span=(6, 12), match='barley'>\n",
            "<re.Match object; span=(0, 5), match='lemon'>\n",
            "<re.Match object; span=(0, 5), match='lemon'>\n",
            "None\n",
            "<re.Match object; span=(5, 11), match='barley'>\n",
            "None\n",
            "<re.Match object; span=(6, 12), match='butter'>\n"
          ]
        }
      ],
      "source": [
        "import re\n",
        "# Backslash Removes the special meaning of a metacharacter.\n",
        "s = r'bread\\butter'\n",
        "print (re.search ('\\\\\\\\', s))\n",
        "print (re.search(r'\\\\',s))\n",
        "# ^ \\A Anchor a match to the start of <string>.\n",
        "food = 'salsa'\n",
        "print (re.search('^sa' , food))\n",
        "print (re.search('\\Ato', 'tomato'))\n",
        "print (re.search('^butter','buttercream'))\n",
        "print (re.search('^butter', 'creambutter'))\n",
        "# $ \\Z Anchor a match to the end of <string>.\n",
        "print (re.search('butter$','bread and butter'))\n",
        "print (re.search('butter\\Z','bread n butter'))\n",
        "print (re.search('cream$','creamcheese'))\n",
        "# \\b Anchors a match to a word boundary.\n",
        "print (re.search('\\bcream','creamcheese'))\n",
        "print (re.search(r'\\bcream','cream cheese'))\n",
        "print (re.search(r'\\bcream','creamcheese'))\n",
        "print (re.search(r'\\bcheese','creamcheese'))\n",
        "print (re.search(r'\\bcheese','cream cheese'))\n",
        "print (re.search(r'\\bcheese','cream.cheese'))\n",
        "print (re.search(r'\\bcheese','cheese.cream'))\n",
        "print (re.search(r'barley\\b','lemon barley'))\n",
        "print (re.search(r'barley\\b','lemon.barley'))\n",
        "print (re.search(r'lemon\\b','lemon barley'))\n",
        "print (re.search(r'lemon\\b','lemon.barley'))\n",
        "print (re.search(r'\\bbarley','lemonbarley'))\n",
        "print (re.search(r'barley\\b','lemonbarley'))\n",
        "print (re.search(r'\\bbutter\\b','breadbuttercream'))\n",
        "print (re.search(r'\\bbutter\\b','bread butter cream'))"
      ]
    }
  ]
}