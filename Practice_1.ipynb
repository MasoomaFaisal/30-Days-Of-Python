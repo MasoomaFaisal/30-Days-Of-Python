{
  "nbformat": 4,
  "nbformat_minor": 0,
  "metadata": {
    "colab": {
      "provenance": [],
      "authorship_tag": "ABX9TyMYfVwbEOIFD4jA/41ErKLK",
      "include_colab_link": true
    },
    "kernelspec": {
      "name": "python3",
      "display_name": "Python 3"
    },
    "language_info": {
      "name": "python"
    }
  },
  "cells": [
    {
      "cell_type": "markdown",
      "metadata": {
        "id": "view-in-github",
        "colab_type": "text"
      },
      "source": [
        "<a href=\"https://colab.research.google.com/github/MasoomaFaisal/30-Days-Of-Python/blob/master/Practice_1.ipynb\" target=\"_parent\"><img src=\"https://colab.research.google.com/assets/colab-badge.svg\" alt=\"Open In Colab\"/></a>"
      ]
    },
    {
      "cell_type": "code",
      "execution_count": 1,
      "metadata": {
        "colab": {
          "base_uri": "https://localhost:8080/"
        },
        "id": "OVl-zA7FFFSC",
        "outputId": "ac7f46de-db99-40c4-a1b2-f4c88c45941b"
      },
      "outputs": [
        {
          "output_type": "stream",
          "name": "stdout",
          "text": [
            "Day2: 30 Days of Python Programming\n"
          ]
        }
      ],
      "source": [
        "print('Day2: 30 Days of Python Programming')\n"
      ]
    },
    {
      "cell_type": "code",
      "source": [
        "First_Name ='Masooma'\n",
        "Last_Name= 'Amjad'\n",
        "Full_Name= 'Masooma Amjad'\n",
        "Country = 'Pakistan'\n",
        "City= 'Islamabad'\n",
        "Age = 40\n",
        "Current_year = 2023\n",
        "is_married= True\n",
        "print('First Name:',First_Name)\n",
        "print('Last Name:', Last_Name)\n",
        "print('Full Name:', Full_Name)\n",
        "print('Full name Length:', len(Full_Name))\n",
        "print('Country:', Country)\n",
        "print('Age:', Age)\n",
        "print('Current Year:', Current_year)\n",
        "print('Married:', is_married)\n",
        "first_name, last_name, country, age = 'Masooma','Faisal','Pakistan',40\n",
        "print(first_name,last_name,country, age)\n",
        "print('First Name:',first_name)\n",
        "print('Last Name:', last_name)\n",
        "print('Country:', country)\n",
        "print('Age:', age)\n",
        "print(type(first_name))\n",
        "print(type(last_name))\n",
        "print(type(Age))\n",
        "print(type('Pakistan'))\n",
        "num_int = 100\n",
        "print(num_int)\n",
        "num_str = str(num_int)\n",
        "print(num_str)\n",
        "print(type(num_int))\n",
        "print(type(num_str))\n"
      ],
      "metadata": {
        "colab": {
          "base_uri": "https://localhost:8080/"
        },
        "id": "HNDH_6-DOvD-",
        "outputId": "6a093ae3-09a8-4403-e307-ad54cc12a41d"
      },
      "execution_count": 23,
      "outputs": [
        {
          "output_type": "stream",
          "name": "stdout",
          "text": [
            "First Name: Masooma\n",
            "Last Name: Amjad\n",
            "Full Name: Masooma Amjad\n",
            "Full name Length: 13\n",
            "Country: Pakistan\n",
            "Age: 40\n",
            "Current Year: 2023\n",
            "Married: True\n",
            "Masooma Faisal Pakistan 40\n",
            "First Name: Masooma\n",
            "Last Name: Faisal\n",
            "Country: Pakistan\n",
            "Age: 40\n",
            "<class 'str'>\n",
            "<class 'str'>\n",
            "<class 'int'>\n",
            "<class 'str'>\n",
            "100\n",
            "100\n",
            "<class 'int'>\n",
            "<class 'str'>\n"
          ]
        }
      ]
    }
  ]
}