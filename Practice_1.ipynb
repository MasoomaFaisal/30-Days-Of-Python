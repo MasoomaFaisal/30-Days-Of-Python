{
  "cells": [
    {
      "cell_type": "markdown",
      "metadata": {
        "id": "view-in-github",
        "colab_type": "text"
      },
      "source": [
        "<a href=\"https://colab.research.google.com/github/MasoomaFaisal/30-Days-Of-Python/blob/master/Practice_1.ipynb\" target=\"_parent\"><img src=\"https://colab.research.google.com/assets/colab-badge.svg\" alt=\"Open In Colab\"/></a>"
      ]
    },
    {
      "cell_type": "code",
      "execution_count": null,
      "metadata": {
        "colab": {
          "base_uri": "https://localhost:8080/"
        },
        "id": "OVl-zA7FFFSC",
        "outputId": "ac7f46de-db99-40c4-a1b2-f4c88c45941b"
      },
      "outputs": [
        {
          "name": "stdout",
          "output_type": "stream",
          "text": [
            "Day2: 30 Days of Python Programming\n"
          ]
        }
      ],
      "source": [
        "print('Day2: 30 Days of Python Programming')\n"
      ]
    },
    {
      "cell_type": "code",
      "execution_count": null,
      "metadata": {
        "colab": {
          "background_save": true,
          "base_uri": "https://localhost:8080/"
        },
        "id": "HNDH_6-DOvD-",
        "outputId": "66b78671-cb2a-45fd-d743-0ba21eaad0d0"
      },
      "outputs": [
        {
          "name": "stdout",
          "output_type": "stream",
          "text": [
            "Masooma\n",
            "Last Name: Amjad\n",
            "Full Name: Masooma Amjad\n",
            "Full name Length: 13\n",
            "Country: Pakistan\n",
            "Age: 40\n",
            "Current Year: 2023\n",
            "Married: True\n",
            "Masooma Faisal Pakistan 40\n",
            "First Name: Masooma\n",
            "Last Name: Faisal\n",
            "Country: Pakistan\n",
            "Age: 40\n",
            "<class 'str'>\n",
            "<class 'str'>\n",
            "<class 'int'>\n",
            "<class 'str'>\n",
            "100\n",
            "100\n",
            "<class 'int'>\n",
            "<class 'str'>\n",
            "Sum: 48\n",
            "24\n",
            "432\n",
            "3.0\n",
            "Area of a circle if Radius is 5= 78.57142857142857\n"
          ]
        }
      ],
      "source": [
        "First_Name ='Masooma'\n",
        "Last_Name= 'Amjad'\n",
        "Full_Name= 'Masooma Amjad'\n",
        "Country = 'Pakistan'\n",
        "City= 'Islamabad'\n",
        "Age = 40\n",
        "Current_year = 2023\n",
        "is_married= True\n",
        "print('First Name:', First_Name)\n",
        "print('Last Name:', Last_Name)\n",
        "print('Full Name:', Full_Name)\n",
        "print('Full name Length:', len(Full_Name))\n",
        "print('Country:', Country)\n",
        "print('Age:', Age)\n",
        "print('Current Year:', Current_year)\n",
        "print('Married:', is_married)\n",
        "first_name, last_name, country, age = 'Masooma','Faisal','Pakistan',40\n",
        "print(first_name,last_name,country, age)\n",
        "print('First Name:',first_name)\n",
        "print('Last Name:', last_name)\n",
        "print('Country:', country)\n",
        "print('Age:', age)\n",
        "print(type(first_name))\n",
        "print(type(last_name))\n",
        "print(type(Age))\n",
        "print(type('Pakistan'))\n",
        "num_int = 100\n",
        "print(num_int)\n",
        "num_str = str(num_int)\n",
        "print(num_str)\n",
        "print(type(num_int))\n",
        "print(type(num_str))\n",
        "num_one= 36\n",
        "num_two=12\n",
        "total=num_one + num_two\n",
        "print('Sum:',total)\n",
        "Diff=num_one-num_two\n",
        "print(Diff)\n",
        "product= num_one*num_two\n",
        "print(product)\n",
        "div=num_one/num_two\n",
        "print(div)\n",
        "radius = 5\n",
        "pi = 22/7\n",
        "area_of_circle= pi*radius**2\n",
        "print(\"Area of a circle if Radius is 5=\", area_of_circle)\n",
        "length=int(input('Enter the Length of your Room:'))\n",
        "Breadth=int(input('Enter the Breadth of your Room:'))\n",
        "print(type(length))\n",
        "Area= length*Breadth\n",
        "print('Area of Your room is:',Area)\n",
        "perimeter= 2*(length+Breadth)\n",
        "print('Perimeter is:', perimeter)\n",
        "\n",
        "\n",
        "\n"
      ]
    },
    {
      "cell_type": "code",
      "execution_count": null,
      "metadata": {
        "id": "IA4pDMfusKMY"
      },
      "outputs": [],
      "source": []
    },
    {
      "cell_type": "markdown",
      "metadata": {
        "id": "BNKEEPI6sMLo"
      },
      "source": []
    },
    {
      "cell_type": "markdown",
      "metadata": {
        "id": "Bf-ZiwRPsPCJ"
      },
      "source": [
        "# New Section"
      ]
    }
  ],
  "metadata": {
    "colab": {
      "provenance": [],
      "authorship_tag": "ABX9TyNtpin55476EGmpSZzxrKCB",
      "include_colab_link": true
    },
    "kernelspec": {
      "display_name": "Python 3",
      "name": "python3"
    },
    "language_info": {
      "name": "python"
    }
  },
  "nbformat": 4,
  "nbformat_minor": 0
}