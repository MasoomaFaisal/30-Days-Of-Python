{
  "nbformat": 4,
  "nbformat_minor": 0,
  "metadata": {
    "colab": {
      "provenance": [],
      "authorship_tag": "ABX9TyOJeWQrizaROiqb5ARKP4BS",
      "include_colab_link": true
    },
    "kernelspec": {
      "name": "python3",
      "display_name": "Python 3"
    },
    "language_info": {
      "name": "python"
    }
  },
  "cells": [
    {
      "cell_type": "markdown",
      "metadata": {
        "id": "view-in-github",
        "colab_type": "text"
      },
      "source": [
        "<a href=\"https://colab.research.google.com/github/MasoomaFaisal/30-Days-Of-Python/blob/master/TransposeMatrix.ipynb\" target=\"_parent\"><img src=\"https://colab.research.google.com/assets/colab-badge.svg\" alt=\"Open In Colab\"/></a>"
      ]
    },
    {
      "cell_type": "code",
      "execution_count": 8,
      "metadata": {
        "colab": {
          "base_uri": "https://localhost:8080/"
        },
        "id": "9XXql9agb_Z7",
        "outputId": "5e6c58ad-84ed-4944-bf02-2721088869bc"
      },
      "outputs": [
        {
          "output_type": "stream",
          "name": "stdout",
          "text": [
            "[[2, 4, 6], [2, 4, 6], [2, 4, 6]]\n"
          ]
        }
      ],
      "source": [
        "matrix= [[1,2],[3,4],[5,6]]\n",
        "def transposematrix (matrix):\n",
        "  transposedmatrix = []\n",
        "  for col in range(len(matrix[0])):\n",
        "    newrow = []\n",
        "  for row in range(len(matrix)):\n",
        "    newrow.append(matrix[row][col])\n",
        "    transposedmatrix.append(newrow)\n",
        "  return transposedmatrix\n",
        "print(transposematrix(matrix))"
      ]
    }
  ]
}