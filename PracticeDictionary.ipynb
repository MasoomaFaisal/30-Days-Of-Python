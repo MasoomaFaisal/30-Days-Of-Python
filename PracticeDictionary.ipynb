{
  "nbformat": 4,
  "nbformat_minor": 0,
  "metadata": {
    "colab": {
      "provenance": [],
      "authorship_tag": "ABX9TyONaPRXqw/FgEVg/ivktgS+",
      "include_colab_link": true
    },
    "kernelspec": {
      "name": "python3",
      "display_name": "Python 3"
    },
    "language_info": {
      "name": "python"
    }
  },
  "cells": [
    {
      "cell_type": "markdown",
      "metadata": {
        "id": "view-in-github",
        "colab_type": "text"
      },
      "source": [
        "<a href=\"https://colab.research.google.com/github/MasoomaFaisal/30-Days-Of-Python/blob/master/PracticeDictionary.ipynb\" target=\"_parent\"><img src=\"https://colab.research.google.com/assets/colab-badge.svg\" alt=\"Open In Colab\"/></a>"
      ]
    },
    {
      "cell_type": "code",
      "execution_count": null,
      "metadata": {
        "colab": {
          "base_uri": "https://localhost:8080/"
        },
        "id": "_BvbgH0n1JZ9",
        "outputId": "68645155-ccf2-474e-dc1f-b9924b009214"
      },
      "outputs": [
        {
          "output_type": "stream",
          "name": "stdout",
          "text": [
            "Employee Name: Muhammad Idrees\n",
            "Employee Age: 36\n",
            "{'Name': 'Muhammad Idrees', 'Age': 37, 'Country': 'Newzeland', 'Address': {'Street': \"Queen's Street\", 'House#': '45'}, 'Skills': ['JavaScript', 'React', 'Node', 'MongoDB', 'Python']}\n",
            "{'Name': 'Muhammad Idrees', 'Age': 37, 'Country': 'Newzeland', 'Address': {'Street': \"Queen's Street\", 'House#': '45'}, 'Skills': ['JavaScript', 'React', 'Node', 'MongoDB', 'Python', 'HTML'], 'Job_Title': 'Developer'}\n",
            "Job Title: Developer\n",
            "City: None\n"
          ]
        }
      ],
      "source": [
        "\n",
        "\n",
        "emp_info = {\n",
        "    'Name': 'Muhammad Idrees',\n",
        "    'Age': 36,\n",
        "    'Country': 'Newzeland',\n",
        "    'Address': {\n",
        "                'Street':'Queen\\'s Street',\n",
        "                'House#' :'45'\n",
        "               },\n",
        "    'Skills': ['JavaScript', 'React', 'Node', 'MongoDB', 'Python']\n",
        "    }\n",
        "print('Employee Name:', emp_info['Name'])\n",
        "print('Employee Age:', emp_info['Age'])\n",
        "\n",
        "emp_info['Age'] = 37\n",
        "print (emp_info)\n",
        "emp_info['Job_Title']= 'Developer'\n",
        "emp_info['Skills'].append('HTML')\n",
        "print (emp_info)\n",
        "print('Job Title:', emp_info.get('Job_Title'))\n",
        "print('City:', emp_info.get('city'))\n",
        "\n",
        "\n"
      ]
    }
  ]
}