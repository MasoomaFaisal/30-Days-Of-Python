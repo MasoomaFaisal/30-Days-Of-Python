{
  "nbformat": 4,
  "nbformat_minor": 0,
  "metadata": {
    "colab": {
      "provenance": [],
      "authorship_tag": "ABX9TyPsth5e28BP6iog9T3UfHpl",
      "include_colab_link": true
    },
    "kernelspec": {
      "name": "python3",
      "display_name": "Python 3"
    },
    "language_info": {
      "name": "python"
    }
  },
  "cells": [
    {
      "cell_type": "markdown",
      "metadata": {
        "id": "view-in-github",
        "colab_type": "text"
      },
      "source": [
        "<a href=\"https://colab.research.google.com/github/MasoomaFaisal/30-Days-Of-Python/blob/master/TwoNumSum.ipynb\" target=\"_parent\"><img src=\"https://colab.research.google.com/assets/colab-badge.svg\" alt=\"Open In Colab\"/></a>"
      ]
    },
    {
      "cell_type": "code",
      "execution_count": 27,
      "metadata": {
        "colab": {
          "base_uri": "https://localhost:8080/"
        },
        "id": "t3T36X9N1fjH",
        "outputId": "c4614b32-a79e-4c2c-cc2b-4b3eb423b010"
      },
      "outputs": [
        {
          "output_type": "stream",
          "name": "stdout",
          "text": [
            "Two Numbers Sum: [3, 9]\n",
            "Two Numbers Sum: [1, 9]\n",
            "Two Numbers Sum: [4, 6]\n"
          ]
        }
      ],
      "source": [
        "\tnumbers = [ 3,8,5,6,4,2,9,10]\n",
        "\ttargetsum = 12\n",
        "\t# Solution 1\n",
        "\tdef twoNumberSum (numbers , targetsum):\n",
        "\t    for i in range(len(numbers) -1):\n",
        "\t        firstNum = numbers[i]\n",
        "\t        for j in range (i + 1, len(numbers)):\n",
        "\t                secondNum = numbers[j]\n",
        "\t                if firstNum + secondNum == targetsum:\n",
        "\t                    return [firstNum, secondNum]\n",
        "\t    return[]\n",
        "print('Two Numbers Sum:', twoNumberSum(numbers,targetsum))\n",
        "# Solution 2\n",
        "array = [1,3,8,5,6,7,4,2,9]\n",
        "target_sum = 10\n",
        "def Sum_solution_two ( array, target_sum):\n",
        "\t\tarray.sort()\n",
        "\t\tleft= 0\n",
        "\t\tright = len (array)- 1\n",
        "\t\twhile left < right:\n",
        "\t\t\tcurrentsum = array[left]+ array[right]\n",
        "\t\t\tif currentsum == target_sum:\n",
        "\t\t\t\treturn [array[left], array[right]]\n",
        "\t\t\telif currentsum < target_sum:\n",
        "\t\t\t\tleft += 1\n",
        "\t\t\telif currentsum > target_sum:\n",
        "\t\t\t\tright -=1\n",
        "\t\treturn []\n",
        "print('Two Numbers Sum:', Sum_solution_two(array,target_sum))\n",
        "\n",
        "def T_Num_Sum(array,target_sum):\n",
        "\t\tnums={}\n",
        "\t\tfor num in array:\n",
        "\t\t\tpotentialmatch = target_sum - num\n",
        "\t\t\tif potentialmatch in nums:\n",
        "\t\t\t\t\treturn [potentialmatch, num]\n",
        "\t\t\telse:\n",
        "\t \t\t\t\tnums[num]= True\n",
        "\t\treturn[]\n",
        "print('Two Numbers Sum:', T_Num_Sum(array,target_sum))"
      ]
    }
  ]
}