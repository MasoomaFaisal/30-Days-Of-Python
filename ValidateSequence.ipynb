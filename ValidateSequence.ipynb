{
  "nbformat": 4,
  "nbformat_minor": 0,
  "metadata": {
    "colab": {
      "provenance": [],
      "authorship_tag": "ABX9TyM5blOyrB7W3VTvCEFRcLTw",
      "include_colab_link": true
    },
    "kernelspec": {
      "name": "python3",
      "display_name": "Python 3"
    },
    "language_info": {
      "name": "python"
    }
  },
  "cells": [
    {
      "cell_type": "markdown",
      "metadata": {
        "id": "view-in-github",
        "colab_type": "text"
      },
      "source": [
        "<a href=\"https://colab.research.google.com/github/MasoomaFaisal/30-Days-Of-Python/blob/master/ValidateSequence.ipynb\" target=\"_parent\"><img src=\"https://colab.research.google.com/assets/colab-badge.svg\" alt=\"Open In Colab\"/></a>"
      ]
    },
    {
      "cell_type": "code",
      "execution_count": 8,
      "metadata": {
        "colab": {
          "base_uri": "https://localhost:8080/"
        },
        "id": "jS5hRpAaZIL1",
        "outputId": "842e0ff3-5f0b-487e-8e79-305708a819b2"
      },
      "outputs": [
        {
          "output_type": "stream",
          "name": "stdout",
          "text": [
            "True\n",
            "False\n"
          ]
        }
      ],
      "source": [
        "array = [5,1,22,25,6,17,8,15]\n",
        "sequence = [1,6,8,15]\n",
        "# Solution 1 to check validate subsequence\n",
        "def isvalidsubseq (array, sequence):\n",
        "    arridx = 0\n",
        "    seqidx = 0\n",
        "    while arridx < len(array) and seqidx < len(sequence):\n",
        "        if array[arridx]== sequence[seqidx]:\n",
        "          seqidx += 1\n",
        "        arridx += 1\n",
        "    return seqidx == len(sequence)\n",
        "print(isvalidsubseq (array,sequence))\n",
        "# Solution 2\n",
        "array_2 = [11,4,7,12,15,34,26,3,18]\n",
        "sequence_2 = [7, 15,3, 11]\n",
        "def isvalidsubsequence (array_2, sequence_2):\n",
        "    seqidx = 0\n",
        "    for value in array_2:\n",
        "      if seqidx == len(sequence_2):\n",
        "        break\n",
        "      if sequence_2[seqidx] == value:\n",
        "        seqidx += 1\n",
        "    return seqidx == len(sequence_2)\n",
        "print (isvalidsubsequence(array_2,sequence_2))"
      ]
    }
  ]
}