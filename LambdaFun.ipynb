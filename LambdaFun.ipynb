{
  "nbformat": 4,
  "nbformat_minor": 0,
  "metadata": {
    "colab": {
      "provenance": [],
      "authorship_tag": "ABX9TyPF4wMxCiqjkAFKxJ18Bzqk",
      "include_colab_link": true
    },
    "kernelspec": {
      "name": "python3",
      "display_name": "Python 3"
    },
    "language_info": {
      "name": "python"
    }
  },
  "cells": [
    {
      "cell_type": "markdown",
      "metadata": {
        "id": "view-in-github",
        "colab_type": "text"
      },
      "source": [
        "<a href=\"https://colab.research.google.com/github/MasoomaFaisal/30-Days-Of-Python/blob/master/LambdaFun.ipynb\" target=\"_parent\"><img src=\"https://colab.research.google.com/assets/colab-badge.svg\" alt=\"Open In Colab\"/></a>"
      ]
    },
    {
      "cell_type": "code",
      "execution_count": 11,
      "metadata": {
        "colab": {
          "base_uri": "https://localhost:8080/"
        },
        "id": "s4RuOHThIr4C",
        "outputId": "ba41b217-c3df-4d41-d2af-abacff589263"
      },
      "outputs": [
        {
          "output_type": "stream",
          "name": "stdout",
          "text": [
            "Sum: 12\n",
            "Square: 36\n",
            "Cube: 125\n",
            "Answer: 47.0\n"
          ]
        }
      ],
      "source": [
        "add_two_nums= lambda a,b : a + b\n",
        "print ('Sum:', add_two_nums(4, 8))\n",
        "square = lambda x : x**2\n",
        "print ('Square:', square (6))\n",
        "cube = lambda x: x ** 3\n",
        "print('Cube:',cube (5) )\n",
        "multi_var = lambda a ,b,c : a**3 + 2*a + 3*b - 6/c + c\n",
        "print('Answer:', multi_var (3,5,2))"
      ]
    }
  ]
}